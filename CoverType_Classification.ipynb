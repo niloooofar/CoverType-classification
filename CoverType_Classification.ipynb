{
 "cells": [
  {
   "cell_type": "code",
   "execution_count": null,
   "metadata": {
    "id": "5uJEVIFpLHeT"
   },
   "outputs": [],
   "source": [
    "import pandas as pd\n",
    "from matplotlib import pyplot as plt\n",
    "import numpy as np\n",
    "\n",
    "import tensorflow as tf\n",
    "from tensorflow.keras.models import Sequential\n",
    "from tensorflow.keras.optimizers import Adam\n",
    "from tensorflow.keras.layers import Dense, InputLayer, Dropout\n",
    "from tensorflow.keras.callbacks import EarlyStopping\n",
    "\n",
    "from sklearn.model_selection import GridSearchCV\n",
    "from keras.wrappers.scikit_learn import KerasClassifier\n",
    "\n",
    "from sklearn.preprocessing import Normalizer, StandardScaler\n",
    "from sklearn.compose import ColumnTransformer\n",
    "from sklearn.model_selection import train_test_split\n",
    "\n",
    "from sklearn.metrics import confusion_matrix\n",
    "from sklearn.metrics import classification_report"
   ]
  },
  {
   "cell_type": "code",
   "execution_count": null,
   "metadata": {
    "id": "radTgNRdLMq7"
   },
   "outputs": [],
   "source": [
    "def prepare_data(df):\n",
    "    \"\"\"\n",
    "    preprocess data \n",
    "    - seprate features and labels data\n",
    "    - split data into train and test sets\n",
    "    - scale data\n",
    "    \n",
    "    param: a dataframe of input data\n",
    "    output: X_train_scaled, X_test_scaled, y_train, y_test\n",
    "    \"\"\"\n",
    "    X = df.iloc[:,:-1]\n",
    "    y = df.iloc[:,-1]\n",
    "    X_train, X_test, y_train, y_test = train_test_split(X, y, test_size=0.2, random_state = 42,  stratify=y)\n",
    "    scaler = StandardScaler()\n",
    "    X_train_scaled = scaler.fit_transform(X_train)\n",
    "    X_test_scaled = scaler.transform(X_test)\n",
    "    return X_train_scaled, X_test_scaled, y_train, y_test"
   ]
  },
  {
   "cell_type": "code",
   "execution_count": null,
   "metadata": {
    "id": "cUVkssQMLV5f"
   },
   "outputs": [],
   "source": [
    "def design_model(input_dim, learning_rate):\n",
    "    \"\"\"\n",
    "    build the model architecture and compile it \n",
    "    \n",
    "    param: number of features\n",
    "    output: keras model object\n",
    "    \"\"\"\n",
    "    model = Sequential()\n",
    "    model.add(Dense(64, input_dim=input_dim, activation='relu'))\n",
    "    #classifier.add(layers.Dropout(0.3))\n",
    "    model.add(Dense(32, activation='relu'))\n",
    "    #classifier.add(layers.Dropout(0.3))\n",
    "    model.add(Dense(8, activation='softmax'))\n",
    "    model.compile(optimizer='adam', loss='sparse_categorical_crossentropy', metrics=['accuracy'])\n",
    "    return model"
   ]
  },
  {
   "cell_type": "code",
   "execution_count": null,
   "metadata": {
    "id": "Ga9MG9LWLXx3"
   },
   "outputs": [],
   "source": [
    "def fit_model(model, X_train, y_train, epochs, batch_size, patience):\n",
    "    \"\"\"\n",
    "    train our model on the training data\n",
    "    \n",
    "    param:\n",
    "        X_train: training set's features\n",
    "        y_train: training set's labels\n",
    "        \n",
    "    output: model's history\n",
    "    \"\"\"\n",
    "#     model = design_model(X_train.shape[1], learning_rate)\n",
    "    earlystop_callback = EarlyStopping(monitor=\"val_accuracy\", mode=\"max\", min_delta=0.0001, patience=patience, verbose=1)\n",
    "#     history = model.fit(X_train, y_train, epochs=epochs, batch_size=batch_size, validation_split=0.2, verbose=1, callbacks=[es])\n",
    "    history = model.fit(X_train,\n",
    "                        y_train,\n",
    "                        epochs=epochs,\n",
    "                        batch_size=batch_size,\n",
    "                        callbacks=[earlystop_callback],\n",
    "                        validation_split=0.2,\n",
    "                        verbose=1)\n",
    "\n",
    "    return history"
   ]
  },
  {
   "cell_type": "code",
   "execution_count": null,
   "metadata": {
    "id": "2PvIO9mrLaQZ"
   },
   "outputs": [],
   "source": [
    "def plot_learning_curve(history, param, learning_rate):\n",
    "    \"\"\"\n",
    "    show how the model performs (in term of accuracy and loss) over several epochs.\n",
    "    \"\"\"\n",
    "    if param == \"loss\":\n",
    "        plt.plot(history.history[\"loss\"], label=\"train\")\n",
    "        plt.plot(history.history[\"val_loss\"], label=\"validation\")\n",
    "        plt.title('model loss')\n",
    "        plt.ylabel('loss')\n",
    "        plt.xlabel('epoch')\n",
    "        plt.legend(['train', 'val'], loc='upper right')\n",
    "        plt.tight_layout()\n",
    "        plt.show()\n",
    "        plt.savefig(\"my_plot.png\")\n",
    "    elif param == \"acc\":\n",
    "        plt.plot(history.history[\"accuracy\"], label=\"train\")\n",
    "        plt.plot(history.history[\"val_accuracy\"], label=\"validation\")\n",
    "        plt.title('model accuracy')\n",
    "        plt.ylabel('accuracy')\n",
    "        plt.xlabel('epoch')\n",
    "        plt.legend(['train', 'val'], loc='upper right')\n",
    "        plt.tight_layout()\n",
    "        plt.show()\n",
    "        plt.savefig(\"my_plot.png\")\n",
    "        "
   ]
  },
  {
   "cell_type": "code",
   "execution_count": 36,
   "metadata": {
    "id": "ag4h70LOLb18"
   },
   "outputs": [],
   "source": [
    "def grid_search(X_train, y_train, num_features, learning_rate):\n",
    "    \"\"\"\n",
    "    use grid search for hyperparamter tuning in neural network\n",
    "    \n",
    "    param: \n",
    "        X_train: training set's features\n",
    "        y_train: training set's labels\n",
    "        num_features: input dimension\n",
    "        learning_rate: learning rate\n",
    "    output: best parameters within our grid search\n",
    "    \"\"\"\n",
    "    # create model\n",
    "    model = KerasClassifier(build_fn=design_model, input_dim=num_features, learning_rate=learning_rate, verbose=0)\n",
    "\n",
    "    # define the grid search parameters\n",
    "    batch_size = [1024, 2024]\n",
    "    epochs = [20, 60]\n",
    "    \n",
    "    param_grid = dict(batch_size=batch_size, epochs=epochs)\n",
    "    grid = GridSearchCV(estimator=model, param_grid=param_grid, n_jobs=-1, cv=3)\n",
    "    grid_result = grid.fit(X_train, y_train)\n",
    "    \n",
    "    # summarize results\n",
    "    print(\"Best: %f using %s\" % (grid_result.best_score_, grid_result.best_params_))\n",
    "    means = grid_result.cv_results_['mean_test_score']\n",
    "    stds = grid_result.cv_results_['std_test_score']\n",
    "    params = grid_result.cv_results_['params']\n",
    "    for mean, stdev, param in zip(means, stds, params):\n",
    "        print(\"%f (%f) with: %r\" % (mean, stdev, param))\n",
    "        \n",
    "    return grid_result.best_params_"
   ]
  },
  {
   "cell_type": "code",
   "execution_count": 37,
   "metadata": {
    "id": "eHOxgTtTLdeY"
   },
   "outputs": [],
   "source": [
    "def main():\n",
    "    \"\"\"\n",
    "    drives the entire code (prepare data, build model, evaluate model and predicts on the test set) \n",
    "    and plot some performance metrics\n",
    "    \"\"\"\n",
    "    LEARNING_RATE = 0.2\n",
    "    PATIENCE = 3\n",
    "\n",
    "    # df = pd.read_csv(\"cover_data.csv\")\n",
    "\n",
    "    X_train_scaled, X_test_scaled, y_train, y_test = prepare_data(df)\n",
    "    best_params = grid_search(X_train_scaled, y_train, X_train_scaled.shape[1], LEARNING_RATE )\n",
    "    print(best_params)\n",
    "\n",
    "    BATCH_SIZE = best_params.get(\"batch_size\")\n",
    "    EPOCHS = best_params.get(\"epochs\")\n",
    "\n",
    "    model = design_model(X_train_scaled.shape[1], LEARNING_RATE)\n",
    "\n",
    "    history = fit_model(\n",
    "        model,\n",
    "        X_train_scaled,\n",
    "        y_train,\n",
    "        epochs = EPOCHS,\n",
    "        batch_size = BATCH_SIZE,\n",
    "        patience = PATIENCE)\n",
    "    \n",
    "    plot_learning_curve(history, \"loss\", LEARNING_RATE)\n",
    "    plot_learning_curve(history, \"acc\", LEARNING_RATE)\n",
    "    \n",
    "    loss, acc = model.evaluate(X_test_scaled, y_test, verbose=0)\n",
    "    print(\"model's loss \", loss)\n",
    "    print(\"model's accuracy \", acc)\n",
    "    \n",
    "    y_pred = model.predict(X_test_scaled)\n",
    "    \n",
    "    # Convert the pred to discrete values\n",
    "    y_pred = np.argmax(y_pred, axis=1)\n",
    "    class_names = ['Spruce/Fir', 'Lodgepole Pine',\n",
    "                   'Ponderosa Pine', 'Cottonwood/Willow',\n",
    "                   'Aspen', 'Douglas-fir', 'Krummholz']\n",
    "    print(classification_report(y_test, y_pred, target_names=class_names))\n"
   ]
  },
  {
   "cell_type": "code",
   "execution_count": 38,
   "metadata": {
    "colab": {
     "base_uri": "https://localhost:8080/",
     "height": 1000
    },
    "id": "SjE4fCTRLfd_",
    "outputId": "5636667c-cf84-43a9-f10b-70672a7d4a1e"
   },
   "outputs": [
    {
     "name": "stdout",
     "output_type": "stream",
     "text": [
      "Best: 0.853303 using {'batch_size': 1024, 'epochs': 60}\n",
      "0.825199 (0.001954) with: {'batch_size': 1024, 'epochs': 20}\n",
      "0.853303 (0.002543) with: {'batch_size': 1024, 'epochs': 60}\n",
      "0.814711 (0.003471) with: {'batch_size': 2024, 'epochs': 20}\n",
      "0.847012 (0.001947) with: {'batch_size': 2024, 'epochs': 60}\n",
      "{'batch_size': 1024, 'epochs': 60}\n",
      "Epoch 1/60\n",
      "364/364 [==============================] - 2s 5ms/step - loss: 0.8099 - accuracy: 0.6781 - val_loss: 0.6241 - val_accuracy: 0.7405\n",
      "Epoch 2/60\n",
      "364/364 [==============================] - 2s 5ms/step - loss: 0.5916 - accuracy: 0.7495 - val_loss: 0.5700 - val_accuracy: 0.7557\n",
      "Epoch 3/60\n",
      "364/364 [==============================] - 2s 4ms/step - loss: 0.5497 - accuracy: 0.7658 - val_loss: 0.5397 - val_accuracy: 0.7706\n",
      "Epoch 4/60\n",
      "364/364 [==============================] - 2s 4ms/step - loss: 0.5220 - accuracy: 0.7772 - val_loss: 0.5130 - val_accuracy: 0.7800\n",
      "Epoch 5/60\n",
      "364/364 [==============================] - 2s 4ms/step - loss: 0.5008 - accuracy: 0.7866 - val_loss: 0.4952 - val_accuracy: 0.7914\n",
      "Epoch 6/60\n",
      "364/364 [==============================] - 2s 5ms/step - loss: 0.4845 - accuracy: 0.7948 - val_loss: 0.4792 - val_accuracy: 0.7979\n",
      "Epoch 7/60\n",
      "364/364 [==============================] - 2s 4ms/step - loss: 0.4712 - accuracy: 0.8007 - val_loss: 0.4679 - val_accuracy: 0.8021\n",
      "Epoch 8/60\n",
      "364/364 [==============================] - 2s 4ms/step - loss: 0.4603 - accuracy: 0.8058 - val_loss: 0.4597 - val_accuracy: 0.8078\n",
      "Epoch 9/60\n",
      "364/364 [==============================] - 2s 4ms/step - loss: 0.4523 - accuracy: 0.8095 - val_loss: 0.4571 - val_accuracy: 0.8083\n",
      "Epoch 10/60\n",
      "364/364 [==============================] - 2s 5ms/step - loss: 0.4452 - accuracy: 0.8130 - val_loss: 0.4481 - val_accuracy: 0.8114\n",
      "Epoch 11/60\n",
      "364/364 [==============================] - 2s 4ms/step - loss: 0.4382 - accuracy: 0.8167 - val_loss: 0.4408 - val_accuracy: 0.8136\n",
      "Epoch 12/60\n",
      "364/364 [==============================] - 2s 5ms/step - loss: 0.4328 - accuracy: 0.8192 - val_loss: 0.4325 - val_accuracy: 0.8204\n",
      "Epoch 13/60\n",
      "364/364 [==============================] - 2s 4ms/step - loss: 0.4271 - accuracy: 0.8217 - val_loss: 0.4273 - val_accuracy: 0.8224\n",
      "Epoch 14/60\n",
      "364/364 [==============================] - 2s 4ms/step - loss: 0.4225 - accuracy: 0.8245 - val_loss: 0.4267 - val_accuracy: 0.8213\n",
      "Epoch 15/60\n",
      "364/364 [==============================] - 2s 4ms/step - loss: 0.4181 - accuracy: 0.8265 - val_loss: 0.4231 - val_accuracy: 0.8236\n",
      "Epoch 16/60\n",
      "364/364 [==============================] - 2s 5ms/step - loss: 0.4135 - accuracy: 0.8278 - val_loss: 0.4199 - val_accuracy: 0.8251\n",
      "Epoch 17/60\n",
      "364/364 [==============================] - 2s 4ms/step - loss: 0.4103 - accuracy: 0.8297 - val_loss: 0.4171 - val_accuracy: 0.8271\n",
      "Epoch 18/60\n",
      "364/364 [==============================] - 2s 4ms/step - loss: 0.4068 - accuracy: 0.8308 - val_loss: 0.4114 - val_accuracy: 0.8298\n",
      "Epoch 19/60\n",
      "364/364 [==============================] - 2s 5ms/step - loss: 0.4031 - accuracy: 0.8329 - val_loss: 0.4115 - val_accuracy: 0.8292\n",
      "Epoch 20/60\n",
      "364/364 [==============================] - 2s 4ms/step - loss: 0.4005 - accuracy: 0.8343 - val_loss: 0.4048 - val_accuracy: 0.8316\n",
      "Epoch 21/60\n",
      "364/364 [==============================] - 2s 4ms/step - loss: 0.3973 - accuracy: 0.8355 - val_loss: 0.4026 - val_accuracy: 0.8345\n",
      "Epoch 22/60\n",
      "364/364 [==============================] - 2s 4ms/step - loss: 0.3944 - accuracy: 0.8368 - val_loss: 0.3982 - val_accuracy: 0.8359\n",
      "Epoch 23/60\n",
      "364/364 [==============================] - 2s 4ms/step - loss: 0.3922 - accuracy: 0.8379 - val_loss: 0.4020 - val_accuracy: 0.8340\n",
      "Epoch 24/60\n",
      "364/364 [==============================] - 2s 4ms/step - loss: 0.3896 - accuracy: 0.8393 - val_loss: 0.3941 - val_accuracy: 0.8376\n",
      "Epoch 25/60\n",
      "364/364 [==============================] - 2s 5ms/step - loss: 0.3870 - accuracy: 0.8404 - val_loss: 0.4072 - val_accuracy: 0.8303\n",
      "Epoch 26/60\n",
      "364/364 [==============================] - 2s 5ms/step - loss: 0.3848 - accuracy: 0.8417 - val_loss: 0.3920 - val_accuracy: 0.8381\n",
      "Epoch 27/60\n",
      "364/364 [==============================] - 2s 4ms/step - loss: 0.3830 - accuracy: 0.8423 - val_loss: 0.3921 - val_accuracy: 0.8371\n",
      "Epoch 28/60\n",
      "364/364 [==============================] - 2s 4ms/step - loss: 0.3801 - accuracy: 0.8436 - val_loss: 0.3883 - val_accuracy: 0.8421\n",
      "Epoch 29/60\n",
      "364/364 [==============================] - 1s 4ms/step - loss: 0.3783 - accuracy: 0.8446 - val_loss: 0.3861 - val_accuracy: 0.8421\n",
      "Epoch 30/60\n",
      "364/364 [==============================] - 2s 4ms/step - loss: 0.3766 - accuracy: 0.8452 - val_loss: 0.3831 - val_accuracy: 0.8432\n",
      "Epoch 31/60\n",
      "364/364 [==============================] - 2s 4ms/step - loss: 0.3749 - accuracy: 0.8459 - val_loss: 0.3790 - val_accuracy: 0.8457\n",
      "Epoch 32/60\n",
      "364/364 [==============================] - 1s 4ms/step - loss: 0.3731 - accuracy: 0.8468 - val_loss: 0.3793 - val_accuracy: 0.8464\n",
      "Epoch 33/60\n",
      "364/364 [==============================] - 2s 4ms/step - loss: 0.3720 - accuracy: 0.8473 - val_loss: 0.3788 - val_accuracy: 0.8440\n",
      "Epoch 34/60\n",
      "364/364 [==============================] - 2s 4ms/step - loss: 0.3707 - accuracy: 0.8477 - val_loss: 0.3793 - val_accuracy: 0.8443\n",
      "Epoch 35/60\n",
      "364/364 [==============================] - 2s 4ms/step - loss: 0.3677 - accuracy: 0.8493 - val_loss: 0.3748 - val_accuracy: 0.8476\n",
      "Epoch 36/60\n",
      "364/364 [==============================] - 2s 4ms/step - loss: 0.3668 - accuracy: 0.8494 - val_loss: 0.3822 - val_accuracy: 0.8404\n",
      "Epoch 37/60\n",
      "364/364 [==============================] - 2s 5ms/step - loss: 0.3662 - accuracy: 0.8497 - val_loss: 0.3723 - val_accuracy: 0.8481\n",
      "Epoch 38/60\n",
      "364/364 [==============================] - 2s 4ms/step - loss: 0.3642 - accuracy: 0.8509 - val_loss: 0.3791 - val_accuracy: 0.8439\n",
      "Epoch 39/60\n",
      "364/364 [==============================] - 2s 4ms/step - loss: 0.3635 - accuracy: 0.8509 - val_loss: 0.3736 - val_accuracy: 0.8464\n",
      "Epoch 40/60\n",
      "364/364 [==============================] - 2s 4ms/step - loss: 0.3620 - accuracy: 0.8520 - val_loss: 0.3673 - val_accuracy: 0.8516\n",
      "Epoch 41/60\n",
      "364/364 [==============================] - 2s 4ms/step - loss: 0.3603 - accuracy: 0.8527 - val_loss: 0.3681 - val_accuracy: 0.8505\n",
      "Epoch 42/60\n",
      "364/364 [==============================] - 2s 5ms/step - loss: 0.3591 - accuracy: 0.8538 - val_loss: 0.3671 - val_accuracy: 0.8512\n",
      "Epoch 43/60\n",
      "364/364 [==============================] - 2s 5ms/step - loss: 0.3580 - accuracy: 0.8536 - val_loss: 0.3680 - val_accuracy: 0.8505\n",
      "Epoch 00043: early stopping\n"
     ]
    },
    {
     "data": {
      "image/png": "[encoded data removed]",
      "text/plain": [
       "<Figure size 432x288 with 1 Axes>"
      ]
     },
     "metadata": {
      "needs_background": "light",
      "tags": []
     },
     "output_type": "display_data"
    },
    {
     "data": {
      "image/png": "[encoded data removed]",
      "text/plain": [
       "<Figure size 432x288 with 1 Axes>"
      ]
     },
     "metadata": {
      "needs_background": "light",
      "tags": []
     },
     "output_type": "display_data"
    },
    {
     "name": "stdout",
     "output_type": "stream",
     "text": [
      "model's loss  0.3669198751449585\n",
      "model's accuracy  0.8510968089103699\n",
      "                   precision    recall  f1-score   support\n",
      "\n",
      "       Spruce/Fir       0.87      0.82      0.84     42368\n",
      "   Lodgepole Pine       0.85      0.90      0.88     56661\n",
      "   Ponderosa Pine       0.81      0.85      0.83      7151\n",
      "Cottonwood/Willow       0.78      0.70      0.74       549\n",
      "            Aspen       0.71      0.48      0.58      1899\n",
      "      Douglas-fir       0.69      0.62      0.65      3473\n",
      "        Krummholz       0.86      0.87      0.86      4102\n",
      "\n",
      "         accuracy                           0.85    116203\n",
      "        macro avg       0.80      0.75      0.77    116203\n",
      "     weighted avg       0.85      0.85      0.85    116203\n",
      "\n"
     ]
    },
    {
     "data": {
      "text/plain": [
       "<Figure size 432x288 with 0 Axes>"
      ]
     },
     "metadata": {
      "tags": []
     },
     "output_type": "display_data"
    }
   ],
   "source": [
    "if __name__ == '__main__':\n",
    "    main()"
   ]
  },
  {
   "cell_type": "code",
   "execution_count": null,
   "metadata": {
    "id": "EfMZVNRAUcEq"
   },
   "outputs": [],
   "source": []
  }
 ],
 "metadata": {
  "accelerator": "TPU",
  "colab": {
   "name": "CoverType Classification",
   "provenance": []
  },
  "kernelspec": {
   "display_name": "Python 3",
   "language": "python",
   "name": "python3"
  },
  "language_info": {
   "codemirror_mode": {
    "name": "ipython",
    "version": 3
   },
   "file_extension": ".py",
   "mimetype": "text/x-python",
   "name": "python",
   "nbconvert_exporter": "python",
   "pygments_lexer": "ipython3",
   "version": "3.9.1"
  }
 },
 "nbformat": 4,
 "nbformat_minor": 1
}
